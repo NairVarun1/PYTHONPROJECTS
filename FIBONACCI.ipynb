{
 "cells": [
  {
   "cell_type": "markdown",
   "id": "7905f781",
   "metadata": {},
   "source": [
    "# FIBONACCI SERIES"
   ]
  },
  {
   "cell_type": "markdown",
   "id": "c5bf4781",
   "metadata": {},
   "source": [
    "This is the python code to generate a Fibonacci Series based on user input."
   ]
  },
  {
   "cell_type": "code",
   "execution_count": 11,
   "id": "4b84c55f",
   "metadata": {},
   "outputs": [],
   "source": [
    "def fibonacci():\n",
    "    n1=0\n",
    "    n2=1\n",
    "    count=0\n",
    "    n=int(input(\"Enter the number of outputs you would like to generate:\"))\n",
    "    if n==0:\n",
    "        print(\"Enter a valid number!\")\n",
    "    elif n==1:\n",
    "        print(n1)\n",
    "    elif n>1:\n",
    "        print(\"The FIBONACCI Series is-->\")\n",
    "        for i in range(0,n):\n",
    "            print(n1)\n",
    "            count=n1+n2\n",
    "            n1=n2\n",
    "            n2=count\n",
    "        "
   ]
  },
  {
   "cell_type": "code",
   "execution_count": 13,
   "id": "4ebcb204",
   "metadata": {},
   "outputs": [
    {
     "name": "stdout",
     "output_type": "stream",
     "text": [
      "Enter the number of outputs you would like to generate:10\n",
      "The FIBONACCI Series is-->\n",
      "0\n",
      "1\n",
      "1\n",
      "2\n",
      "3\n",
      "5\n",
      "8\n",
      "13\n",
      "21\n",
      "34\n"
     ]
    }
   ],
   "source": [
    "fibonacci()"
   ]
  }
 ],
 "metadata": {
  "kernelspec": {
   "display_name": "Python 3 (ipykernel)",
   "language": "python",
   "name": "python3"
  },
  "language_info": {
   "codemirror_mode": {
    "name": "ipython",
    "version": 3
   },
   "file_extension": ".py",
   "mimetype": "text/x-python",
   "name": "python",
   "nbconvert_exporter": "python",
   "pygments_lexer": "ipython3",
   "version": "3.11.3"
  }
 },
 "nbformat": 4,
 "nbformat_minor": 5
}
