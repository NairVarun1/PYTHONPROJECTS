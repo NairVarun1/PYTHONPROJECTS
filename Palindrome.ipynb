{
 "cells": [
  {
   "cell_type": "markdown",
   "id": "60024665",
   "metadata": {},
   "source": [
    "# Palindrome detector\n"
   ]
  },
  {
   "cell_type": "markdown",
   "id": "b43bfbda",
   "metadata": {},
   "source": [
    "Code to check palindrome. Works for both strings and integers."
   ]
  },
  {
   "cell_type": "code",
   "execution_count": 15,
   "id": "db9ee7fe",
   "metadata": {},
   "outputs": [
    {
     "name": "stdout",
     "output_type": "stream",
     "text": [
      "Enter a wordracecar\n",
      " It is a Palindrome\n"
     ]
    }
   ],
   "source": [
    "s=input(\"Enter a word\")\n",
    "t=s[::-1]\n",
    "if s==t:\n",
    "    print(\" It is a Palindrome\")\n",
    "else:\n",
    "    print(\"It is not a palindrome\")"
   ]
  }
 ],
 "metadata": {
  "kernelspec": {
   "display_name": "Python 3 (ipykernel)",
   "language": "python",
   "name": "python3"
  },
  "language_info": {
   "codemirror_mode": {
    "name": "ipython",
    "version": 3
   },
   "file_extension": ".py",
   "mimetype": "text/x-python",
   "name": "python",
   "nbconvert_exporter": "python",
   "pygments_lexer": "ipython3",
   "version": "3.11.3"
  }
 },
 "nbformat": 4,
 "nbformat_minor": 5
}
