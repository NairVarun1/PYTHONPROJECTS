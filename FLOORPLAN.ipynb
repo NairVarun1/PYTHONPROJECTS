{
 "cells": [
  {
   "cell_type": "markdown",
   "id": "e9274e99",
   "metadata": {},
   "source": [
    "# Floorplan Calculator\n"
   ]
  },
  {
   "cell_type": "markdown",
   "id": "b950ba42",
   "metadata": {},
   "source": [
    "Python code to calculate the estimated tile cost to cover a floor based on user inputs"
   ]
  },
  {
   "cell_type": "code",
   "execution_count": 4,
   "id": "a05146bb",
   "metadata": {},
   "outputs": [],
   "source": [
    "def floorplan():\n",
    "    b=int(input(\"Enter the width/breadth of the tile (in ft)\"))\n",
    "    l=int(input(\"Enter the height/length of the tile (in ft)\"))\n",
    "    p=int(input(\"Enter the price of 1 tile\"))\n",
    "    at=b*l\n",
    "    print(\"\\n\")\n",
    "    print(f\"Area of 1 tile= {at} sqft\")\n",
    "    print(f'Cost of 1 tile= {p}')\n",
    "    print(\"\\n\")\n",
    "    fb=int(input(\"Enter the width/breadth of the floor/wall (in Ft)\"))\n",
    "    fl=int(input(\"Enter the length/height of the floor/wall (in Ft)\"))\n",
    "    fa=fb*fl\n",
    "    print(f'Area of the wall/floor= {fa} sqft')\n",
    "    ra=fa/at\n",
    "    rt=round(ra,1)\n",
    "    print('\\n')\n",
    "    print(f\"The amount of tiles required would be approximately= {rt} \")\n",
    "    rc=p*rt\n",
    "    print(f\"The required cost would approximately be: {rc}\")\n"
   ]
  },
  {
   "cell_type": "code",
   "execution_count": 6,
   "id": "9e75a181",
   "metadata": {},
   "outputs": [
    {
     "name": "stdout",
     "output_type": "stream",
     "text": [
      "Enter the width/breadth of the tile (in ft)4\n",
      "Enter the height/length of the tile (in ft)7\n",
      "Enter the price of 1 tile10\n",
      "\n",
      "\n",
      "Area of 1 tile= 28 sqft\n",
      "Cost of 1 tile= 10\n",
      "\n",
      "\n",
      "Enter the width/breadth of the floor/wall (in Ft)400\n",
      "Enter the length/height of the floor/wall (in Ft)250\n",
      "Area of the wall/floor= 100000 sqft\n",
      "\n",
      "\n",
      "The amount of tiles required would be approximately= 3571.4 \n",
      "The required cost would approximately be: 35714.0\n"
     ]
    }
   ],
   "source": [
    "floorplan()"
   ]
  },
  {
   "cell_type": "code",
   "execution_count": null,
   "id": "790d92b0",
   "metadata": {},
   "outputs": [],
   "source": []
  }
 ],
 "metadata": {
  "kernelspec": {
   "display_name": "Python 3 (ipykernel)",
   "language": "python",
   "name": "python3"
  },
  "language_info": {
   "codemirror_mode": {
    "name": "ipython",
    "version": 3
   },
   "file_extension": ".py",
   "mimetype": "text/x-python",
   "name": "python",
   "nbconvert_exporter": "python",
   "pygments_lexer": "ipython3",
   "version": "3.11.3"
  }
 },
 "nbformat": 4,
 "nbformat_minor": 5
}
