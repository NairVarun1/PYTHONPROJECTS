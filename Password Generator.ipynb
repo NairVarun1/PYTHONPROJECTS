{
 "cells": [
  {
   "cell_type": "code",
   "execution_count": 20,
   "id": "2edc7ba7",
   "metadata": {},
   "outputs": [
    {
     "name": "stdout",
     "output_type": "stream",
     "text": [
      "How long do you wish the password to be (6-24)8\n",
      "Generated Secure Password: -j&n}}Z9\n"
     ]
    }
   ],
   "source": [
    "import random\n",
    "import string\n",
    "\n",
    "def generate_secure_password():\n",
    "    length=int(input(\"How long do you wish the password to be? (6-24)\"))\n",
    "    if length<6 or length>24 or length==0:\n",
    "        print(\"Enter within the valid range\")\n",
    "    else:\n",
    "        characters = string.ascii_letters + string.digits + string.punctuation\n",
    "        password = ''.join(random.choice(characters) for _ in range(length))\n",
    "        return password\n",
    "\n",
    "generated_password = generate_secure_password()\n",
    "print(f\"Generated Secure Password: {generated_password}\")\n"
   ]
  },
  {
   "cell_type": "code",
   "execution_count": null,
   "id": "ba38138d",
   "metadata": {},
   "outputs": [],
   "source": []
  },
  {
   "cell_type": "code",
   "execution_count": null,
   "id": "9663dfb0",
   "metadata": {},
   "outputs": [],
   "source": []
  }
 ],
 "metadata": {
  "kernelspec": {
   "display_name": "Python 3 (ipykernel)",
   "language": "python",
   "name": "python3"
  },
  "language_info": {
   "codemirror_mode": {
    "name": "ipython",
    "version": 3
   },
   "file_extension": ".py",
   "mimetype": "text/x-python",
   "name": "python",
   "nbconvert_exporter": "python",
   "pygments_lexer": "ipython3",
   "version": "3.11.3"
  }
 },
 "nbformat": 4,
 "nbformat_minor": 5
}
